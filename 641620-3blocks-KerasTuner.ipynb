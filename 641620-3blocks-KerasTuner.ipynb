{
 "cells": [
  {
   "cell_type": "markdown",
   "id": "2c0b028b-d1bd-4669-87c9-bf611ce12dac",
   "metadata": {},
   "source": [
    "# Damiano Bressanin 138075\n",
    "\n",
    "\n",
    "Ho preso spunto da:\n",
    "- https://keras.io/keras_tuner\n",
    "- https://keras.io/guides/keras_tuner/getting_started/\n",
    "\n",
    "\n",
    "# Test:\n",
    "- Dataset 64-16-20;\n",
    "- Foto RGB;\n",
    "- No Data Augmentation;\n",
    "- Random Search per iperparametri con KerasTuner;"
   ]
  },
  {
   "cell_type": "code",
   "execution_count": 1,
   "id": "795f8fdc-13b7-4566-b545-50f32e332c70",
   "metadata": {},
   "outputs": [
    {
     "name": "stderr",
     "output_type": "stream",
     "text": [
      "2023-08-14 10:32:55.705148: I tensorflow/core/platform/cpu_feature_guard.cc:182] This TensorFlow binary is optimized to use available CPU instructions in performance-critical operations.\n",
      "To enable the following instructions: AVX2 FMA, in other operations, rebuild TensorFlow with the appropriate compiler flags.\n"
     ]
    }
   ],
   "source": [
    "import os\n",
    "import shutil\n",
    "import random\n",
    "import tensorflow as tf\n",
    "\n",
    "from tensorflow.keras.models import Sequential\n",
    "from tensorflow.keras.layers import Conv2D, MaxPooling2D, Flatten, Dense, Dropout\n",
    "\n",
    "from tensorflow.keras.callbacks import TensorBoard, EarlyStopping\n",
    "\n",
    "import numpy as np\n",
    "\n",
    "from matplotlib.image import imread\n",
    "from matplotlib import pyplot\n",
    "\n",
    "random.seed(42)"
   ]
  },
  {
   "cell_type": "markdown",
   "id": "e41738da-e0e2-4f7f-9584-6b9cc463361b",
   "metadata": {},
   "source": [
    "# Normalizzazione e Data Augmentation"
   ]
  },
  {
   "cell_type": "code",
   "execution_count": 3,
   "id": "a4bc5752-ff85-4f57-a943-2130d91bbc40",
   "metadata": {},
   "outputs": [
    {
     "name": "stdout",
     "output_type": "stream",
     "text": [
      "Found 15999 images belonging to 2 classes.\n",
      "Found 3998 images belonging to 2 classes.\n",
      "Found 5000 images belonging to 2 classes.\n"
     ]
    }
   ],
   "source": [
    "from keras.preprocessing.image import ImageDataGenerator\n",
    "\n",
    "train_datagen = ImageDataGenerator(\n",
    "    rescale=1./255,\n",
    "#    shear_range=0.3,\n",
    "#    zoom_range=0.3,\n",
    "#    horizontal_flip=True,\n",
    "    vertical_flip=False,\n",
    "#    brightness_range=[0.8,1.2],\n",
    "#    rotation_range=20,\n",
    "#    width_shift_range=0.15,\n",
    "#    height_shift_range=0.15,\n",
    "#    fill_mode='nearest'\n",
    ")\n",
    "\n",
    "\n",
    "test_datagen = ImageDataGenerator(rescale=1./255)\n",
    "\n",
    "val_datagen = ImageDataGenerator(rescale=1./255)\n",
    "\n",
    "batch_size = 64\n",
    "\n",
    "train_it = train_datagen.flow_from_directory(\"dataset_diviso/train/\",\n",
    "                                             class_mode='binary',\n",
    "                                             batch_size=batch_size,\n",
    "                                             target_size=(200, 200),\n",
    "                                             color_mode=\"rgb\",\n",
    "                                             shuffle=True,\n",
    "                                             seed=42\n",
    "                                            )\n",
    "\n",
    "val_it = val_datagen.flow_from_directory('dataset_diviso/valid/',\n",
    "                                         class_mode='binary',\n",
    "                                         batch_size=batch_size,\n",
    "                                         target_size=(200, 200),\n",
    "                                         color_mode=\"rgb\",\n",
    "                                         shuffle=False,\n",
    "                                         seed=42)\n",
    "\n",
    "test_it = test_datagen.flow_from_directory('dataset_diviso/test/',\n",
    "                                           class_mode='binary',\n",
    "                                           batch_size=batch_size,\n",
    "                                           target_size=(200, 200),\n",
    "                                           color_mode=\"rgb\",\n",
    "                                           shuffle=False,\n",
    "                                           seed=42)\n",
    "\n"
   ]
  },
  {
   "cell_type": "markdown",
   "id": "ccd5c198-4f94-4ee8-9e95-b13c3f6da5e9",
   "metadata": {},
   "source": [
    "# Creazione del modello usando KerasTuner\n"
   ]
  },
  {
   "cell_type": "code",
   "execution_count": 6,
   "id": "eaa9d95c-2fd8-415c-9f18-551d04fc474a",
   "metadata": {},
   "outputs": [],
   "source": [
    "import datetime\n",
    "\n",
    "unique_name = datetime.datetime.now().strftime(\"%Y%m%d-%H%M%S\")\n",
    "log_dir = \"logs/fit/KerasTuner\" + unique_name\n",
    "\n",
    "tensorboard_callback = TensorBoard(log_dir=log_dir, histogram_freq=1, update_freq='epoch')"
   ]
  },
  {
   "cell_type": "code",
   "execution_count": 7,
   "id": "f5ff7bba-ec37-46ce-9351-fd2a3698ddc8",
   "metadata": {},
   "outputs": [],
   "source": [
    "early_stop = EarlyStopping(monitor='val_loss', patience=3, restore_best_weights=True)"
   ]
  },
  {
   "cell_type": "code",
   "execution_count": 8,
   "id": "1827588c-812b-418c-9da3-4d3b5c435e1f",
   "metadata": {},
   "outputs": [
    {
     "name": "stdout",
     "output_type": "stream",
     "text": [
      "Trial 10 Complete [00h 22m 35s]\n",
      "val_accuracy: 0.7056028048197428\n",
      "\n",
      "Best val_accuracy So Far: 0.8161580761273702\n",
      "Total elapsed time: 11h 50m 30s\n",
      "INFO:tensorflow:Oracle triggered exit\n"
     ]
    }
   ],
   "source": [
    "import keras_tuner\n",
    "from tensorflow import keras\n",
    "from keras_tuner.tuners import RandomSearch\n",
    "\n",
    "\n",
    "def build_model(hp):\n",
    "    model = Sequential()\n",
    "\n",
    "    model.add(Conv2D(filters=hp.Int('conv_1_filter', min_value=32, max_value=64, step=16),\n",
    "                     kernel_size=hp.Choice('conv_1_kernel', values=[3]), #3,5\n",
    "                     activation='relu',\n",
    "                     padding='same',\n",
    "                     input_shape=(200, 200, 3)))\n",
    "    \n",
    "    model.add(MaxPooling2D(2, 2))\n",
    "    \n",
    "    model.add(Dropout(rate=hp.Float('dropout_1', min_value=0.1, max_value=0.4, step=0.1)))\n",
    "\n",
    "    \n",
    "    model.add(Conv2D(filters=hp.Int('conv_2_filter', min_value=64, max_value=128, step=32),\n",
    "                     kernel_size=hp.Choice('conv_2_kernel', values=[3]),\n",
    "                     activation='relu',\n",
    "                     padding='same'))\n",
    "    \n",
    "    model.add(MaxPooling2D(2, 2))\n",
    "    \n",
    "    model.add(Dropout(rate=hp.Float('dropout_2', min_value=0.1, max_value=0.3, step=0.1)))\n",
    "\n",
    "    \n",
    "    model.add(Conv2D(filters=hp.Int('conv_3_filter', min_value=128, max_value=256, step=64),\n",
    "                     kernel_size=hp.Choice('conv_3_kernel', values=[3]),\n",
    "                     activation='relu',\n",
    "                     padding='same'))\n",
    "    \n",
    "    model.add(MaxPooling2D(2, 2))\n",
    "    \n",
    "    model.add(Dropout(rate=hp.Float('dropout_3', min_value=0.1, max_value=0.3, step=0.1)))\n",
    "    \n",
    "    \n",
    "    model.add(Flatten())\n",
    "\n",
    "    model.add(Dense(units=hp.Int('dense_1_units', min_value=128, max_value=256, step=32),\n",
    "                    activation='relu'))\n",
    "    \n",
    "    model.add(Dropout(rate=hp.Float('dropout_4', min_value=0.2, max_value=0.4, step=0.1)))\n",
    "    \n",
    "\n",
    "    model.add(Dense(1, activation='sigmoid'))\n",
    "\n",
    "    model.compile(optimizer=hp.Choice('optimizer', values=['adam', 'sgd']),\n",
    "                  loss='binary_crossentropy',\n",
    "                  metrics=['accuracy'])\n",
    "    \n",
    "    return model\n",
    "\n",
    "\n",
    "tuner = RandomSearch(build_model,\n",
    "                     objective='val_accuracy',\n",
    "                     max_trials=10,\n",
    "                     executions_per_trial=3,\n",
    "                     directory='3blockKerasTuner',\n",
    "                     project_name='canigatti')\n",
    "\n",
    "# Effettuo la ricerca degli iperparametri\n",
    "tuner.search(train_it,\n",
    "             epochs=50,\n",
    "             validation_data=val_it,\n",
    "             callbacks=[early_stop, tensorboard_callback])\n",
    "\n",
    "# 10 combinazioni, ognuna addestrata 3 volte con i pesi inizializzati a valori casuali = 30 addestramenti.\n",
    "# Ogni addestramento dura 50 epoche ma con early stopping.\n",
    "\n",
    "# Prendo il miglior modello\n",
    "best_model = tuner.get_best_models()[0]"
   ]
  },
  {
   "cell_type": "code",
   "execution_count": 9,
   "id": "aa6d857f-a614-4d71-ab15-954eaa24fba2",
   "metadata": {},
   "outputs": [
    {
     "name": "stdout",
     "output_type": "stream",
     "text": [
      "79/79 [==============================] - 14s 167ms/step - loss: 0.4207 - accuracy: 0.8078\n",
      "> 80.780\n"
     ]
    }
   ],
   "source": [
    "\n",
    "_, acc = best_model.evaluate(test_it, steps=len(test_it), verbose=1)\n",
    "print('> %.3f' % (acc * 100.0))"
   ]
  },
  {
   "cell_type": "code",
   "execution_count": 10,
   "id": "77856dd6-0f46-4d8e-aba5-2fcb4a337377",
   "metadata": {},
   "outputs": [
    {
     "name": "stdout",
     "output_type": "stream",
     "text": [
      "Model: \"sequential\"\n",
      "_________________________________________________________________\n",
      " Layer (type)                Output Shape              Param #   \n",
      "=================================================================\n",
      " conv2d (Conv2D)             (None, 200, 200, 64)      1792      \n",
      "                                                                 \n",
      " max_pooling2d (MaxPooling2  (None, 100, 100, 64)      0         \n",
      " D)                                                              \n",
      "                                                                 \n",
      " dropout (Dropout)           (None, 100, 100, 64)      0         \n",
      "                                                                 \n",
      " conv2d_1 (Conv2D)           (None, 100, 100, 64)      36928     \n",
      "                                                                 \n",
      " max_pooling2d_1 (MaxPoolin  (None, 50, 50, 64)        0         \n",
      " g2D)                                                            \n",
      "                                                                 \n",
      " dropout_1 (Dropout)         (None, 50, 50, 64)        0         \n",
      "                                                                 \n",
      " conv2d_2 (Conv2D)           (None, 50, 50, 256)       147712    \n",
      "                                                                 \n",
      " max_pooling2d_2 (MaxPoolin  (None, 25, 25, 256)       0         \n",
      " g2D)                                                            \n",
      "                                                                 \n",
      " dropout_2 (Dropout)         (None, 25, 25, 256)       0         \n",
      "                                                                 \n",
      " flatten (Flatten)           (None, 160000)            0         \n",
      "                                                                 \n",
      " dense (Dense)               (None, 160)               25600160  \n",
      "                                                                 \n",
      " dropout_3 (Dropout)         (None, 160)               0         \n",
      "                                                                 \n",
      " dense_1 (Dense)             (None, 1)                 161       \n",
      "                                                                 \n",
      "=================================================================\n",
      "Total params: 25786753 (98.37 MB)\n",
      "Trainable params: 25786753 (98.37 MB)\n",
      "Non-trainable params: 0 (0.00 Byte)\n",
      "_________________________________________________________________\n"
     ]
    }
   ],
   "source": [
    "best_model.summary()"
   ]
  },
  {
   "cell_type": "code",
   "execution_count": 11,
   "id": "80200a39-d176-4cbb-8a5d-da5b54ca69c1",
   "metadata": {},
   "outputs": [],
   "source": [
    "model_dir = \"modelli/KerasTuner\"+ unique_name +\".keras\"\n",
    "best_model.save(model_dir)"
   ]
  }
 ],
 "metadata": {
  "kernelspec": {
   "display_name": "Python 3 (ipykernel)",
   "language": "python",
   "name": "python3"
  },
  "language_info": {
   "codemirror_mode": {
    "name": "ipython",
    "version": 3
   },
   "file_extension": ".py",
   "mimetype": "text/x-python",
   "name": "python",
   "nbconvert_exporter": "python",
   "pygments_lexer": "ipython3",
   "version": "3.8.10"
  }
 },
 "nbformat": 4,
 "nbformat_minor": 5
}

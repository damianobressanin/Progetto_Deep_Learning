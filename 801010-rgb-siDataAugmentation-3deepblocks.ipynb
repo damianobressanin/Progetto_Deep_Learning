{
 "cells": [
  {
   "cell_type": "markdown",
   "id": "2c0b028b-d1bd-4669-87c9-bf611ce12dac",
   "metadata": {},
   "source": [
    "# Damiano Bressanin 138075\n",
    "\n",
    "CNN per classificazione binaria cani-gatti con 3 blocchi costituiti da: convoluzioni + ReLU e maxpooling.\n",
    "\n",
    "Ho preso spunto da \"How to Classify Photos of Dogs and Cats\" di Jason Brownlee.\n",
    "\n",
    "Fonte: https://machinelearningmastery.com/how-to-develop-a-convolutional-neural-network-to-classify-photos-of-dogs-and-cats/\n",
    "\n",
    "\n",
    "# Test:\n",
    "- Dataset 80-10-10;\n",
    "- Foto RGB;\n",
    "- Sì Data Augmentation;\n",
    "- Rete più profonda"
   ]
  },
  {
   "cell_type": "code",
   "execution_count": 1,
   "id": "795f8fdc-13b7-4566-b545-50f32e332c70",
   "metadata": {},
   "outputs": [
    {
     "name": "stderr",
     "output_type": "stream",
     "text": [
      "2023-09-03 13:31:50.422723: I tensorflow/core/platform/cpu_feature_guard.cc:182] This TensorFlow binary is optimized to use available CPU instructions in performance-critical operations.\n",
      "To enable the following instructions: AVX2 FMA, in other operations, rebuild TensorFlow with the appropriate compiler flags.\n"
     ]
    }
   ],
   "source": [
    "import os\n",
    "import shutil\n",
    "import random\n",
    "import tensorflow as tf\n",
    "\n",
    "from tensorflow.keras.models import Sequential\n",
    "from tensorflow.keras.layers import Conv2D, MaxPooling2D, Flatten, Dense, Dropout\n",
    "\n",
    "from tensorflow.keras.callbacks import TensorBoard, EarlyStopping\n",
    "\n",
    "import numpy as np\n",
    "\n",
    "from matplotlib.image import imread\n",
    "from matplotlib import pyplot\n",
    "\n",
    "random.seed(1)"
   ]
  },
  {
   "cell_type": "markdown",
   "id": "e41738da-e0e2-4f7f-9584-6b9cc463361b",
   "metadata": {},
   "source": [
    "# Normalizzazione e Data Augmentation"
   ]
  },
  {
   "cell_type": "code",
   "execution_count": 2,
   "id": "a4bc5752-ff85-4f57-a943-2130d91bbc40",
   "metadata": {},
   "outputs": [
    {
     "name": "stdout",
     "output_type": "stream",
     "text": [
      "Found 19997 images belonging to 2 classes.\n",
      "Found 2500 images belonging to 2 classes.\n",
      "Found 2500 images belonging to 2 classes.\n"
     ]
    }
   ],
   "source": [
    "from keras.preprocessing.image import ImageDataGenerator\n",
    "\n",
    "train_datagen = ImageDataGenerator(\n",
    "    rescale=1./255,\n",
    "    shear_range=0.2,\n",
    "#    zoom_range=0.3,\n",
    "    horizontal_flip=True,\n",
    "    vertical_flip=False,\n",
    "    brightness_range=[0.8,1.2],\n",
    "#    rotation_range=20,\n",
    "#    width_shift_range=0.15,\n",
    "#    height_shift_range=0.15,\n",
    "    fill_mode='nearest'\n",
    ")\n",
    "\n",
    "\n",
    "test_datagen = ImageDataGenerator(rescale=1./255)\n",
    "\n",
    "val_datagen = ImageDataGenerator(rescale=1./255)\n",
    "\n",
    "batch_size = 64\n",
    "\n",
    "train_it = train_datagen.flow_from_directory(\"dataset_diviso_v2/train/\",\n",
    "                                             class_mode='binary',\n",
    "                                             batch_size=batch_size,\n",
    "                                             target_size=(200, 200),\n",
    "                                             color_mode=\"rgb\",\n",
    "                                             shuffle=True,\n",
    "                                             seed=42\n",
    "                                            )\n",
    "\n",
    "val_it = val_datagen.flow_from_directory('dataset_diviso_v2/valid/',\n",
    "                                         class_mode='binary',\n",
    "                                         batch_size=batch_size,\n",
    "                                         target_size=(200, 200),\n",
    "                                         color_mode=\"rgb\",\n",
    "                                         shuffle=True,\n",
    "                                         seed=42)\n",
    "\n",
    "test_it = test_datagen.flow_from_directory('dataset_diviso_v2/test/',\n",
    "                                           class_mode='binary',\n",
    "                                           batch_size=batch_size,\n",
    "                                           target_size=(200, 200),\n",
    "                                           color_mode=\"rgb\",\n",
    "                                           shuffle=True,\n",
    "                                           seed=42)\n",
    "\n"
   ]
  },
  {
   "cell_type": "markdown",
   "id": "ccd5c198-4f94-4ee8-9e95-b13c3f6da5e9",
   "metadata": {},
   "source": [
    "# Creazione del modello:"
   ]
  },
  {
   "cell_type": "code",
   "execution_count": 3,
   "id": "e428a012-2c2e-4909-b882-5e3a2fcce7fc",
   "metadata": {},
   "outputs": [],
   "source": [
    "def define_model(optimizer):\n",
    "\n",
    "    model=Sequential()\n",
    "\n",
    "    model.add(Conv2D(32, (3, 3), activation='relu', kernel_initializer='he_uniform', padding='same', input_shape=(200, 200, 3)))\n",
    "    model.add(Conv2D(32, (3, 3), activation='relu', kernel_initializer='he_uniform', padding='same'))\n",
    "    model.add(MaxPooling2D((2, 2)))\n",
    "    model.add(Dropout(0.2))\n",
    "    \n",
    "    model.add(Conv2D(64, (3, 3), activation='relu', kernel_initializer='he_uniform', padding='same'))\n",
    "    model.add(Conv2D(64, (3, 3), activation='relu', kernel_initializer='he_uniform', padding='same'))\n",
    "    model.add(MaxPooling2D((2, 2)))\n",
    "    model.add(Dropout(0.2))\n",
    "    \n",
    "    model.add(Conv2D(128, (3, 3), activation='relu', kernel_initializer='he_uniform', padding='same'))\n",
    "    model.add(Conv2D(128, (3, 3), activation='relu', kernel_initializer='he_uniform', padding='same'))\n",
    "    model.add(MaxPooling2D((2, 2)))\n",
    "    model.add(Dropout(0.2))\n",
    "    \n",
    "    model.add(Flatten())\n",
    "    model.add(Dense(256, activation='relu', kernel_initializer='he_uniform'))\n",
    "    model.add(Dropout(0.4))\n",
    "    \n",
    "    model.add(Dense(1, activation='sigmoid'))\n",
    "\n",
    "    model.compile(optimizer, loss='binary_crossentropy', metrics=['accuracy'])\n",
    "    return model"
   ]
  },
  {
   "cell_type": "code",
   "execution_count": 4,
   "id": "f5ff7bba-ec37-46ce-9351-fd2a3698ddc8",
   "metadata": {},
   "outputs": [],
   "source": [
    "early_stop = EarlyStopping(monitor='val_loss', patience=15, restore_best_weights=True)"
   ]
  },
  {
   "cell_type": "code",
   "execution_count": 5,
   "id": "eaa9d95c-2fd8-415c-9f18-551d04fc474a",
   "metadata": {},
   "outputs": [],
   "source": [
    "import datetime\n",
    "\n",
    "unique_name = datetime.datetime.now().strftime(\"%Y%m%d-%H%M%S\")\n",
    "log_dir = \"logs/fit/\" + unique_name\n",
    "\n",
    "tensorboard_callback = TensorBoard(log_dir=log_dir, histogram_freq=1, update_freq='epoch')"
   ]
  },
  {
   "cell_type": "code",
   "execution_count": 6,
   "id": "7f57028f-9a7d-42f7-b7ab-3fdd542315b9",
   "metadata": {
    "tags": []
   },
   "outputs": [
    {
     "name": "stderr",
     "output_type": "stream",
     "text": [
      "2023-09-03 13:31:55.074871: I tensorflow/compiler/xla/stream_executor/cuda/cuda_gpu_executor.cc:981] could not open file to read NUMA node: /sys/bus/pci/devices/0000:01:00.0/numa_node\n",
      "Your kernel may have been built without NUMA support.\n",
      "2023-09-03 13:31:55.081118: I tensorflow/compiler/xla/stream_executor/cuda/cuda_gpu_executor.cc:981] could not open file to read NUMA node: /sys/bus/pci/devices/0000:01:00.0/numa_node\n",
      "Your kernel may have been built without NUMA support.\n",
      "2023-09-03 13:31:55.081562: I tensorflow/compiler/xla/stream_executor/cuda/cuda_gpu_executor.cc:981] could not open file to read NUMA node: /sys/bus/pci/devices/0000:01:00.0/numa_node\n",
      "Your kernel may have been built without NUMA support.\n",
      "2023-09-03 13:31:55.083912: I tensorflow/compiler/xla/stream_executor/cuda/cuda_gpu_executor.cc:981] could not open file to read NUMA node: /sys/bus/pci/devices/0000:01:00.0/numa_node\n",
      "Your kernel may have been built without NUMA support.\n",
      "2023-09-03 13:31:55.084383: I tensorflow/compiler/xla/stream_executor/cuda/cuda_gpu_executor.cc:981] could not open file to read NUMA node: /sys/bus/pci/devices/0000:01:00.0/numa_node\n",
      "Your kernel may have been built without NUMA support.\n",
      "2023-09-03 13:31:55.084874: I tensorflow/compiler/xla/stream_executor/cuda/cuda_gpu_executor.cc:981] could not open file to read NUMA node: /sys/bus/pci/devices/0000:01:00.0/numa_node\n",
      "Your kernel may have been built without NUMA support.\n",
      "2023-09-03 13:31:55.973703: I tensorflow/compiler/xla/stream_executor/cuda/cuda_gpu_executor.cc:981] could not open file to read NUMA node: /sys/bus/pci/devices/0000:01:00.0/numa_node\n",
      "Your kernel may have been built without NUMA support.\n",
      "2023-09-03 13:31:55.974256: I tensorflow/compiler/xla/stream_executor/cuda/cuda_gpu_executor.cc:981] could not open file to read NUMA node: /sys/bus/pci/devices/0000:01:00.0/numa_node\n",
      "Your kernel may have been built without NUMA support.\n",
      "2023-09-03 13:31:55.974278: I tensorflow/core/common_runtime/gpu/gpu_device.cc:1726] Could not identify NUMA node of platform GPU id 0, defaulting to 0.  Your kernel may not have been built with NUMA support.\n",
      "2023-09-03 13:31:55.974710: I tensorflow/compiler/xla/stream_executor/cuda/cuda_gpu_executor.cc:981] could not open file to read NUMA node: /sys/bus/pci/devices/0000:01:00.0/numa_node\n",
      "Your kernel may have been built without NUMA support.\n",
      "2023-09-03 13:31:55.974749: I tensorflow/core/common_runtime/gpu/gpu_device.cc:1639] Created device /job:localhost/replica:0/task:0/device:GPU:0 with 6582 MB memory:  -> device: 0, name: NVIDIA GeForce GTX 1070, pci bus id: 0000:01:00.0, compute capability: 6.1\n"
     ]
    },
    {
     "name": "stdout",
     "output_type": "stream",
     "text": [
      "Epoch 1/500\n"
     ]
    },
    {
     "name": "stderr",
     "output_type": "stream",
     "text": [
      "2023-09-03 13:31:58.616731: E tensorflow/core/grappler/optimizers/meta_optimizer.cc:954] layout failed: INVALID_ARGUMENT: Size of values 0 does not match size of permutation 4 @ fanin shape insequential/dropout/dropout/SelectV2-2-TransposeNHWCToNCHW-LayoutOptimizer\n",
      "2023-09-03 13:32:00.143459: I tensorflow/compiler/xla/stream_executor/cuda/cuda_dnn.cc:432] Loaded cuDNN version 8600\n",
      "2023-09-03 13:32:02.770391: I tensorflow/compiler/xla/service/service.cc:168] XLA service 0x1b016a00 initialized for platform CUDA (this does not guarantee that XLA will be used). Devices:\n",
      "2023-09-03 13:32:02.770442: I tensorflow/compiler/xla/service/service.cc:176]   StreamExecutor device (0): NVIDIA GeForce GTX 1070, Compute Capability 6.1\n",
      "2023-09-03 13:32:02.776562: I tensorflow/compiler/mlir/tensorflow/utils/dump_mlir_util.cc:255] disabling MLIR crash reproducer, set env var `MLIR_CRASH_REPRODUCER_DIRECTORY` to enable.\n",
      "2023-09-03 13:32:02.919430: I ./tensorflow/compiler/jit/device_compiler.h:186] Compiled cluster using XLA!  This line is logged at most once for the lifetime of the process.\n"
     ]
    },
    {
     "name": "stdout",
     "output_type": "stream",
     "text": [
      " 60/313 [====>.........................] - ETA: 2:55 - loss: 5.5022 - accuracy: 0.5240"
     ]
    },
    {
     "name": "stderr",
     "output_type": "stream",
     "text": [
      "/usr/local/lib/python3.8/dist-packages/PIL/TiffImagePlugin.py:866: UserWarning: Truncated File Read\n",
      "  warnings.warn(str(msg))\n"
     ]
    },
    {
     "name": "stdout",
     "output_type": "stream",
     "text": [
      "313/313 [==============================] - ETA: 0s - loss: 1.6167 - accuracy: 0.5114"
     ]
    },
    {
     "name": "stderr",
     "output_type": "stream",
     "text": [
      "2023-09-03 13:35:56.546171: W tensorflow/tsl/framework/cpu_allocator_impl.cc:83] Allocation of 4915200000 exceeds 10% of free system memory.\n"
     ]
    },
    {
     "name": "stdout",
     "output_type": "stream",
     "text": [
      "313/313 [==============================] - 241s 733ms/step - loss: 1.6167 - accuracy: 0.5114 - val_loss: 0.6930 - val_accuracy: 0.4980\n",
      "Epoch 2/500\n",
      "313/313 [==============================] - ETA: 0s - loss: 0.6928 - accuracy: 0.5195"
     ]
    },
    {
     "name": "stderr",
     "output_type": "stream",
     "text": [
      "2023-09-03 13:39:44.733272: W tensorflow/tsl/framework/cpu_allocator_impl.cc:83] Allocation of 4915200000 exceeds 10% of free system memory.\n"
     ]
    },
    {
     "name": "stdout",
     "output_type": "stream",
     "text": [
      "313/313 [==============================] - 228s 728ms/step - loss: 0.6928 - accuracy: 0.5195 - val_loss: 0.6856 - val_accuracy: 0.5636\n",
      "Epoch 3/500\n",
      "313/313 [==============================] - ETA: 0s - loss: 0.6822 - accuracy: 0.5612"
     ]
    },
    {
     "name": "stderr",
     "output_type": "stream",
     "text": [
      "2023-09-03 13:43:32.520372: W tensorflow/tsl/framework/cpu_allocator_impl.cc:83] Allocation of 4915200000 exceeds 10% of free system memory.\n"
     ]
    },
    {
     "name": "stdout",
     "output_type": "stream",
     "text": [
      "313/313 [==============================] - 228s 726ms/step - loss: 0.6822 - accuracy: 0.5612 - val_loss: 0.6636 - val_accuracy: 0.6112\n",
      "Epoch 4/500\n",
      "313/313 [==============================] - ETA: 0s - loss: 0.6583 - accuracy: 0.6111"
     ]
    },
    {
     "name": "stderr",
     "output_type": "stream",
     "text": [
      "2023-09-03 13:47:27.044511: W tensorflow/tsl/framework/cpu_allocator_impl.cc:83] Allocation of 4915200000 exceeds 10% of free system memory.\n"
     ]
    },
    {
     "name": "stdout",
     "output_type": "stream",
     "text": [
      "313/313 [==============================] - 234s 747ms/step - loss: 0.6583 - accuracy: 0.6111 - val_loss: 0.6305 - val_accuracy: 0.6476\n",
      "Epoch 5/500\n",
      "313/313 [==============================] - ETA: 0s - loss: 0.5855 - accuracy: 0.6934"
     ]
    },
    {
     "name": "stderr",
     "output_type": "stream",
     "text": [
      "2023-09-03 13:51:23.151678: W tensorflow/tsl/framework/cpu_allocator_impl.cc:83] Allocation of 4915200000 exceeds 10% of free system memory.\n"
     ]
    },
    {
     "name": "stdout",
     "output_type": "stream",
     "text": [
      "313/313 [==============================] - 236s 753ms/step - loss: 0.5855 - accuracy: 0.6934 - val_loss: 0.5084 - val_accuracy: 0.7444\n",
      "Epoch 6/500\n",
      "313/313 [==============================] - 240s 765ms/step - loss: 0.5368 - accuracy: 0.7340 - val_loss: 0.4923 - val_accuracy: 0.7712\n",
      "Epoch 7/500\n",
      "313/313 [==============================] - 244s 777ms/step - loss: 0.4927 - accuracy: 0.7658 - val_loss: 0.4347 - val_accuracy: 0.8044\n",
      "Epoch 8/500\n",
      "313/313 [==============================] - 248s 791ms/step - loss: 0.4435 - accuracy: 0.7925 - val_loss: 0.3907 - val_accuracy: 0.8276\n",
      "Epoch 9/500\n",
      "313/313 [==============================] - 237s 755ms/step - loss: 0.4115 - accuracy: 0.8148 - val_loss: 0.3710 - val_accuracy: 0.8340\n",
      "Epoch 10/500\n",
      "313/313 [==============================] - 237s 755ms/step - loss: 0.3770 - accuracy: 0.8313 - val_loss: 0.3639 - val_accuracy: 0.8396\n",
      "Epoch 11/500\n",
      "313/313 [==============================] - 245s 781ms/step - loss: 0.3387 - accuracy: 0.8522 - val_loss: 0.3431 - val_accuracy: 0.8640\n",
      "Epoch 12/500\n",
      "313/313 [==============================] - 243s 775ms/step - loss: 0.3222 - accuracy: 0.8616 - val_loss: 0.3122 - val_accuracy: 0.8684\n",
      "Epoch 13/500\n",
      "313/313 [==============================] - 239s 761ms/step - loss: 0.2846 - accuracy: 0.8815 - val_loss: 0.3121 - val_accuracy: 0.8640\n",
      "Epoch 14/500\n",
      "313/313 [==============================] - 238s 759ms/step - loss: 0.2615 - accuracy: 0.8894 - val_loss: 0.2896 - val_accuracy: 0.8776\n",
      "Epoch 15/500\n",
      "313/313 [==============================] - 236s 753ms/step - loss: 0.2380 - accuracy: 0.9012 - val_loss: 0.2697 - val_accuracy: 0.8964\n",
      "Epoch 16/500\n",
      "313/313 [==============================] - 242s 771ms/step - loss: 0.2169 - accuracy: 0.9135 - val_loss: 0.2539 - val_accuracy: 0.9020\n",
      "Epoch 17/500\n",
      "313/313 [==============================] - 246s 783ms/step - loss: 0.2031 - accuracy: 0.9152 - val_loss: 0.2927 - val_accuracy: 0.8772\n",
      "Epoch 18/500\n",
      "313/313 [==============================] - 335s 1s/step - loss: 0.1796 - accuracy: 0.9294 - val_loss: 0.2801 - val_accuracy: 0.9016\n",
      "Epoch 19/500\n",
      "313/313 [==============================] - 247s 787ms/step - loss: 0.1667 - accuracy: 0.9342 - val_loss: 0.2771 - val_accuracy: 0.9012\n",
      "Epoch 20/500\n",
      "313/313 [==============================] - 246s 783ms/step - loss: 0.1511 - accuracy: 0.9394 - val_loss: 0.2578 - val_accuracy: 0.9040\n",
      "Epoch 21/500\n",
      "313/313 [==============================] - 240s 764ms/step - loss: 0.1394 - accuracy: 0.9461 - val_loss: 0.2717 - val_accuracy: 0.8992\n",
      "Epoch 22/500\n",
      "313/313 [==============================] - 233s 743ms/step - loss: 0.1318 - accuracy: 0.9506 - val_loss: 0.2386 - val_accuracy: 0.9064\n",
      "Epoch 23/500\n",
      "313/313 [==============================] - 232s 739ms/step - loss: 0.1171 - accuracy: 0.9569 - val_loss: 0.2517 - val_accuracy: 0.9048\n",
      "Epoch 24/500\n",
      "313/313 [==============================] - 230s 734ms/step - loss: 0.1170 - accuracy: 0.9557 - val_loss: 0.2611 - val_accuracy: 0.9108\n",
      "Epoch 25/500\n",
      "313/313 [==============================] - 230s 734ms/step - loss: 0.0956 - accuracy: 0.9642 - val_loss: 0.2779 - val_accuracy: 0.9012\n",
      "Epoch 26/500\n",
      "313/313 [==============================] - 231s 735ms/step - loss: 0.1024 - accuracy: 0.9635 - val_loss: 0.3127 - val_accuracy: 0.9184\n",
      "Epoch 27/500\n",
      "313/313 [==============================] - 231s 735ms/step - loss: 0.0945 - accuracy: 0.9649 - val_loss: 0.3598 - val_accuracy: 0.8856\n",
      "Epoch 28/500\n",
      "313/313 [==============================] - 231s 736ms/step - loss: 0.0851 - accuracy: 0.9686 - val_loss: 0.3113 - val_accuracy: 0.9060\n",
      "Epoch 29/500\n",
      "313/313 [==============================] - 230s 735ms/step - loss: 0.0819 - accuracy: 0.9700 - val_loss: 0.2939 - val_accuracy: 0.9056\n",
      "Epoch 30/500\n",
      "313/313 [==============================] - 231s 736ms/step - loss: 0.0835 - accuracy: 0.9696 - val_loss: 0.3141 - val_accuracy: 0.9040\n",
      "Epoch 31/500\n",
      "313/313 [==============================] - 230s 734ms/step - loss: 0.0751 - accuracy: 0.9743 - val_loss: 0.3141 - val_accuracy: 0.9040\n",
      "Epoch 32/500\n",
      "313/313 [==============================] - 228s 729ms/step - loss: 0.0664 - accuracy: 0.9757 - val_loss: 0.3308 - val_accuracy: 0.9084\n",
      "Epoch 33/500\n",
      "313/313 [==============================] - 230s 732ms/step - loss: 0.0664 - accuracy: 0.9752 - val_loss: 0.2839 - val_accuracy: 0.9104\n",
      "Epoch 34/500\n",
      "313/313 [==============================] - 229s 731ms/step - loss: 0.0761 - accuracy: 0.9725 - val_loss: 0.3130 - val_accuracy: 0.9104\n",
      "Epoch 35/500\n",
      "313/313 [==============================] - 229s 729ms/step - loss: 0.0629 - accuracy: 0.9758 - val_loss: 0.3333 - val_accuracy: 0.9084\n",
      "Epoch 36/500\n",
      "313/313 [==============================] - 229s 729ms/step - loss: 0.0658 - accuracy: 0.9769 - val_loss: 0.3878 - val_accuracy: 0.9008\n",
      "Epoch 37/500\n",
      "313/313 [==============================] - 230s 733ms/step - loss: 0.0671 - accuracy: 0.9766 - val_loss: 0.2988 - val_accuracy: 0.9148\n"
     ]
    }
   ],
   "source": [
    "from tensorflow.keras.optimizers import SGD, Adam\n",
    "model=define_model('adam')\n",
    "#model=define_model(SGD(learning_rate=0.001, momentum=0.9))\n",
    "\n",
    "\n",
    "\n",
    "history = model.fit(train_it, steps_per_epoch=len(train_it), validation_data=val_it, validation_steps=len(val_it), epochs=500, verbose=1, callbacks=[tensorboard_callback,early_stop],validation_split=0)"
   ]
  },
  {
   "cell_type": "code",
   "execution_count": 7,
   "id": "c88ce36e-07a3-4fe0-b9c3-011fd0983bdb",
   "metadata": {},
   "outputs": [
    {
     "name": "stdout",
     "output_type": "stream",
     "text": [
      "40/40 [==============================] - 4s 105ms/step - loss: 0.2490 - accuracy: 0.9040\n",
      "> 90.400\n"
     ]
    }
   ],
   "source": [
    "# valuto il modello\n",
    "\n",
    "_, acc = model.evaluate(test_it, steps=len(test_it), verbose=1)\n",
    "print('> %.3f' % (acc * 100.0))"
   ]
  },
  {
   "cell_type": "code",
   "execution_count": 8,
   "id": "345d90a8-1059-4eb8-b52e-3595cb48136d",
   "metadata": {},
   "outputs": [
    {
     "name": "stdout",
     "output_type": "stream",
     "text": [
      "Model: \"sequential\"\n",
      "_________________________________________________________________\n",
      " Layer (type)                Output Shape              Param #   \n",
      "=================================================================\n",
      " conv2d (Conv2D)             (None, 200, 200, 32)      896       \n",
      "                                                                 \n",
      " conv2d_1 (Conv2D)           (None, 200, 200, 32)      9248      \n",
      "                                                                 \n",
      " max_pooling2d (MaxPooling2  (None, 100, 100, 32)      0         \n",
      " D)                                                              \n",
      "                                                                 \n",
      " dropout (Dropout)           (None, 100, 100, 32)      0         \n",
      "                                                                 \n",
      " conv2d_2 (Conv2D)           (None, 100, 100, 64)      18496     \n",
      "                                                                 \n",
      " conv2d_3 (Conv2D)           (None, 100, 100, 64)      36928     \n",
      "                                                                 \n",
      " max_pooling2d_1 (MaxPoolin  (None, 50, 50, 64)        0         \n",
      " g2D)                                                            \n",
      "                                                                 \n",
      " dropout_1 (Dropout)         (None, 50, 50, 64)        0         \n",
      "                                                                 \n",
      " conv2d_4 (Conv2D)           (None, 50, 50, 128)       73856     \n",
      "                                                                 \n",
      " conv2d_5 (Conv2D)           (None, 50, 50, 128)       147584    \n",
      "                                                                 \n",
      " max_pooling2d_2 (MaxPoolin  (None, 25, 25, 128)       0         \n",
      " g2D)                                                            \n",
      "                                                                 \n",
      " dropout_2 (Dropout)         (None, 25, 25, 128)       0         \n",
      "                                                                 \n",
      " flatten (Flatten)           (None, 80000)             0         \n",
      "                                                                 \n",
      " dense (Dense)               (None, 256)               20480256  \n",
      "                                                                 \n",
      " dropout_3 (Dropout)         (None, 256)               0         \n",
      "                                                                 \n",
      " dense_1 (Dense)             (None, 1)                 257       \n",
      "                                                                 \n",
      "=================================================================\n",
      "Total params: 20767521 (79.22 MB)\n",
      "Trainable params: 20767521 (79.22 MB)\n",
      "Non-trainable params: 0 (0.00 Byte)\n",
      "_________________________________________________________________\n"
     ]
    }
   ],
   "source": [
    "model.summary()"
   ]
  },
  {
   "cell_type": "code",
   "execution_count": 9,
   "id": "8ba6f086-4a8d-4ad8-979d-a67f8684c15d",
   "metadata": {},
   "outputs": [],
   "source": [
    "model_dir = \"modelli/\"+ unique_name +\".keras\"\n",
    "model.save(model_dir)"
   ]
  },
  {
   "cell_type": "code",
   "execution_count": 10,
   "id": "e22c4322-f6a1-4eb5-98a3-14fefc41b58f",
   "metadata": {},
   "outputs": [],
   "source": [
    "def summarize_diagnostics(history):\n",
    "    pyplot.figure(figsize=(20, 15))\n",
    "    \n",
    "    # plot loss\n",
    "    pyplot.subplot(211)\n",
    "    pyplot.title('Cross Entropy Loss')\n",
    "    pyplot.plot(history.history['loss'], color='orange', label='train')\n",
    "    pyplot.plot(history.history['val_loss'], color='blue', label='val')\n",
    "    pyplot.legend(loc='upper right') # legenda\n",
    "    pyplot.grid(which='both', linestyle='-', linewidth=1, color='black')  # griglia nera\n",
    "    \n",
    "    # plot accuracy\n",
    "    pyplot.subplot(212)\n",
    "    pyplot.title('Classification Accuracy')\n",
    "    pyplot.plot(history.history['accuracy'], color='red', label='train')\n",
    "    pyplot.plot(history.history['val_accuracy'], color='green', label='val')\n",
    "    pyplot.legend(loc='lower right')\n",
    "    pyplot.grid(which='both', linestyle='-', linewidth=1, color='black')\n",
    "\n",
    "    # salvo i plot su file\n",
    "    filename = 'plot/' + unique_name\n",
    "    pyplot.savefig(filename + '_plot.png')\n",
    "    pyplot.close()\n",
    "    \n",
    "summarize_diagnostics(history)"
   ]
  }
 ],
 "metadata": {
  "kernelspec": {
   "display_name": "Python 3 (ipykernel)",
   "language": "python",
   "name": "python3"
  },
  "language_info": {
   "codemirror_mode": {
    "name": "ipython",
    "version": 3
   },
   "file_extension": ".py",
   "mimetype": "text/x-python",
   "name": "python",
   "nbconvert_exporter": "python",
   "pygments_lexer": "ipython3",
   "version": "3.8.10"
  }
 },
 "nbformat": 4,
 "nbformat_minor": 5
}
